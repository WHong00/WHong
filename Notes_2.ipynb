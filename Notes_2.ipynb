{
 "cells": [
  {
   "cell_type": "code",
   "execution_count": 4,
   "metadata": {},
   "outputs": [
    {
     "name": "stdout",
     "output_type": "stream",
     "text": [
      "6 is a Perfect number.\n"
     ]
    }
   ],
   "source": [
    "# Function to find factors of a number\n",
    "def find_factors(num):\n",
    "    factors = []\n",
    "    for i in range(1, num):\n",
    "        if num % i == 0:\n",
    "            factors.append(i)\n",
    "    return factors\n",
    "\n",
    "# Function to classify a number as perfect, deficient, or abundant\n",
    "def classify_number(num):\n",
    "    factors = find_factors(num)\n",
    "    factor_sum = sum(factors)\n",
    "\n",
    "    if factor_sum == num:\n",
    "        return \"Perfect\"\n",
    "    elif factor_sum < num:\n",
    "        return \"Deficient\"\n",
    "    else:\n",
    "        return \"Abundant\"\n",
    "\n",
    "# Main program\n",
    "try:\n",
    "    num = int(input(\"Enter a number: \"))\n",
    "    classification = classify_number(num)\n",
    "    print(f\"{num} is a {classification} number.\")\n",
    "except ValueError:\n",
    "    print(\"Invalid input. Please enter a valid number.\")"
   ]
  },
  {
   "cell_type": "code",
   "execution_count": 3,
   "metadata": {},
   "outputs": [
    {
     "name": "stdout",
     "output_type": "stream",
     "text": [
      "you received an A\n"
     ]
    }
   ],
   "source": [
    "percent_float = float (input (\"What is your percentage?\"))\n",
    "\n",
    "if 90 <= percent_float <100:\n",
    "    print (\"you received an A\")\n",
    "elif 80 <= percent_float <90:\n",
    "    print (\"you received an B\")\n",
    "elif 70 <= percent_float <80:\n",
    "    print (\"you received an C\")\n",
    "elif 60 <= percent_float <70:\n",
    "    print (\"you received an D\")\n",
    "else:\n",
    "    print (\"oops, not good\")"
   ]
  }
 ],
 "metadata": {
  "kernelspec": {
   "display_name": "Python 3",
   "language": "python",
   "name": "python3"
  },
  "language_info": {
   "codemirror_mode": {
    "name": "ipython",
    "version": 3
   },
   "file_extension": ".py",
   "mimetype": "text/x-python",
   "name": "python",
   "nbconvert_exporter": "python",
   "pygments_lexer": "ipython3",
   "version": "3.11.6"
  }
 },
 "nbformat": 4,
 "nbformat_minor": 2
}
