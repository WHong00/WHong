{
 "cells": [
  {
   "cell_type": "code",
   "execution_count": 2,
   "metadata": {},
   "outputs": [
    {
     "ename": "NameError",
     "evalue": "name 'percent_float' is not defined",
     "output_type": "error",
     "traceback": [
      "\u001b[1;31m---------------------------------------------------------------------------\u001b[0m",
      "\u001b[1;31mNameError\u001b[0m                                 Traceback (most recent call last)",
      "\u001b[1;32md:\\Users\\OneDrive - graduate.utm.my\\SMJE YEAR 4 SEM 1\\SMJE4383 Advance Programming\\Notes_2.ipynb Cell 1\u001b[0m line \u001b[0;36m5\n\u001b[0;32m      <a href='vscode-notebook-cell:/d%3A/Users/OneDrive%20-%20graduate.utm.my/SMJE%20YEAR%204%20SEM%201/SMJE4383%20Advance%20Programming/Notes_2.ipynb#W0sZmlsZQ%3D%3D?line=2'>3</a>\u001b[0m \u001b[39mif\u001b[39;00m \u001b[39m90\u001b[39m \u001b[39m<\u001b[39m\u001b[39m=\u001b[39m precent_float \u001b[39m<\u001b[39m\u001b[39m100\u001b[39m:\n\u001b[0;32m      <a href='vscode-notebook-cell:/d%3A/Users/OneDrive%20-%20graduate.utm.my/SMJE%20YEAR%204%20SEM%201/SMJE4383%20Advance%20Programming/Notes_2.ipynb#W0sZmlsZQ%3D%3D?line=3'>4</a>\u001b[0m     \u001b[39mprint\u001b[39m (\u001b[39m\"\u001b[39m\u001b[39myou received an A\u001b[39m\u001b[39m\"\u001b[39m)\n\u001b[1;32m----> <a href='vscode-notebook-cell:/d%3A/Users/OneDrive%20-%20graduate.utm.my/SMJE%20YEAR%204%20SEM%201/SMJE4383%20Advance%20Programming/Notes_2.ipynb#W0sZmlsZQ%3D%3D?line=4'>5</a>\u001b[0m \u001b[39melif\u001b[39;00m \u001b[39m80\u001b[39m \u001b[39m<\u001b[39m\u001b[39m=\u001b[39m percent_float \u001b[39m<\u001b[39m\u001b[39m90\u001b[39m:\n\u001b[0;32m      <a href='vscode-notebook-cell:/d%3A/Users/OneDrive%20-%20graduate.utm.my/SMJE%20YEAR%204%20SEM%201/SMJE4383%20Advance%20Programming/Notes_2.ipynb#W0sZmlsZQ%3D%3D?line=5'>6</a>\u001b[0m     \u001b[39mprint\u001b[39m (\u001b[39m\"\u001b[39m\u001b[39myou received an B\u001b[39m\u001b[39m\"\u001b[39m)\n\u001b[0;32m      <a href='vscode-notebook-cell:/d%3A/Users/OneDrive%20-%20graduate.utm.my/SMJE%20YEAR%204%20SEM%201/SMJE4383%20Advance%20Programming/Notes_2.ipynb#W0sZmlsZQ%3D%3D?line=6'>7</a>\u001b[0m \u001b[39melif\u001b[39;00m \u001b[39m70\u001b[39m \u001b[39m<\u001b[39m\u001b[39m=\u001b[39m percent_float \u001b[39m<\u001b[39m\u001b[39m80\u001b[39m:\n",
      "\u001b[1;31mNameError\u001b[0m: name 'percent_float' is not defined"
     ]
    }
   ],
   "source": [
    "percent_float = float (input (\"What is your percentage?\"))\n",
    "\n",
    "if 90 <= percent_float <100:\n",
    "    print (\"you received an A\")\n",
    "elif 80 <= percent_float <90:\n",
    "    print (\"you received an B\")\n",
    "elif 70 <= percent_float <80:\n",
    "    print (\"you received an C\")\n",
    "elif 60 <= percent_float <70:\n",
    "    print (\"you received an D\")\n",
    "else:\n",
    "    print (\"oops, not good\")"
   ]
  }
 ],
 "metadata": {
  "kernelspec": {
   "display_name": "Python 3",
   "language": "python",
   "name": "python3"
  },
  "language_info": {
   "codemirror_mode": {
    "name": "ipython",
    "version": 3
   },
   "file_extension": ".py",
   "mimetype": "text/x-python",
   "name": "python",
   "nbconvert_exporter": "python",
   "pygments_lexer": "ipython3",
   "version": "3.11.6"
  }
 },
 "nbformat": 4,
 "nbformat_minor": 2
}
