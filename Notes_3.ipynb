{
 "cells": [
  {
   "cell_type": "code",
   "execution_count": 1,
   "metadata": {},
   "outputs": [
    {
     "ename": "TypeError",
     "evalue": "'<=' not supported between instances of 'int' and 'str'",
     "output_type": "error",
     "traceback": [
      "\u001b[1;31m---------------------------------------------------------------------------\u001b[0m",
      "\u001b[1;31mTypeError\u001b[0m                                 Traceback (most recent call last)",
      "\u001b[1;32md:\\Users\\OneDrive - graduate.utm.my\\SMJE YEAR 4 SEM 1\\SMJE4383 Advance Programming\\Github_TanWeeHong\\Notes_3.ipynb Cell 1\u001b[0m line \u001b[0;36m3\n\u001b[0;32m      <a href='vscode-notebook-cell:/d%3A/Users/OneDrive%20-%20graduate.utm.my/SMJE%20YEAR%204%20SEM%201/SMJE4383%20Advance%20Programming/Github_TanWeeHong/Notes_3.ipynb#W0sZmlsZQ%3D%3D?line=0'>1</a>\u001b[0m a \u001b[39m=\u001b[39m \u001b[39minput\u001b[39m(\u001b[39m\"\u001b[39m\u001b[39mgive a number: \u001b[39m\u001b[39m\"\u001b[39m)\n\u001b[0;32m      <a href='vscode-notebook-cell:/d%3A/Users/OneDrive%20-%20graduate.utm.my/SMJE%20YEAR%204%20SEM%201/SMJE4383%20Advance%20Programming/Github_TanWeeHong/Notes_3.ipynb#W0sZmlsZQ%3D%3D?line=1'>2</a>\u001b[0m b,c \u001b[39m=\u001b[39m \u001b[39m1\u001b[39m,\u001b[39m0\u001b[39m \n\u001b[1;32m----> <a href='vscode-notebook-cell:/d%3A/Users/OneDrive%20-%20graduate.utm.my/SMJE%20YEAR%204%20SEM%201/SMJE4383%20Advance%20Programming/Github_TanWeeHong/Notes_3.ipynb#W0sZmlsZQ%3D%3D?line=2'>3</a>\u001b[0m \u001b[39mwhile\u001b[39;00m b \u001b[39m<\u001b[39;49m\u001b[39m=\u001b[39;49m a : \n\u001b[0;32m      <a href='vscode-notebook-cell:/d%3A/Users/OneDrive%20-%20graduate.utm.my/SMJE%20YEAR%204%20SEM%201/SMJE4383%20Advance%20Programming/Github_TanWeeHong/Notes_3.ipynb#W0sZmlsZQ%3D%3D?line=3'>4</a>\u001b[0m     c \u001b[39m=\u001b[39m c \u001b[39m+\u001b[39m b \n\u001b[0;32m      <a href='vscode-notebook-cell:/d%3A/Users/OneDrive%20-%20graduate.utm.my/SMJE%20YEAR%204%20SEM%201/SMJE4383%20Advance%20Programming/Github_TanWeeHong/Notes_3.ipynb#W0sZmlsZQ%3D%3D?line=4'>5</a>\u001b[0m     b \u001b[39m=\u001b[39m b \u001b[39m+\u001b[39m \u001b[39m1\u001b[39m \n",
      "\u001b[1;31mTypeError\u001b[0m: '<=' not supported between instances of 'int' and 'str'"
     ]
    }
   ],
   "source": [
    "a = input(\"give a number: \")\n",
    "b,c = 1,0 \n",
    "while b <= a : \n",
    "    c = c + b \n",
    "    b = b + 1 \n",
    "print (a,b,c) \n",
    "print (\"Result: \", float(c)/b - 1) "
   ]
  }
 ],
 "metadata": {
  "kernelspec": {
   "display_name": "Python 3",
   "language": "python",
   "name": "python3"
  },
  "language_info": {
   "codemirror_mode": {
    "name": "ipython",
    "version": 3
   },
   "file_extension": ".py",
   "mimetype": "text/x-python",
   "name": "python",
   "nbconvert_exporter": "python",
   "pygments_lexer": "ipython3",
   "version": "3.11.6"
  }
 },
 "nbformat": 4,
 "nbformat_minor": 2
}
